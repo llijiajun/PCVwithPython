{
 "cells": [
  {
   "cell_type": "code",
   "execution_count": 1,
   "metadata": {},
   "outputs": [],
   "source": [
    "from PIL import Image\n",
    "import cv2\n",
    "import math\n",
    "import numpy as np\n",
    "import os"
   ]
  },
  {
   "cell_type": "code",
   "execution_count": 2,
   "metadata": {},
   "outputs": [],
   "source": [
    "Jie_p=\"jieping\" # jieping content\n",
    "if not os.path.exists(Jie_p):\n",
    "    os.makedirs(Jie_p)\n",
    "small=\"small\" #small file\n",
    "if not os.path.exists(small):\n",
    "    os.makedirs(small)\n",
    "big=\"big\" #big photo\n",
    "if not os.path.exists(big):\n",
    "    os.makedirs(big)\n",
    "root=\"data\" #base data\n",
    "heic=\"heic\"\n",
    "if not os.path.exists(heic):\n",
    "    os.makedirs(heic)\n",
    "zp=\"zp\" #photo\n",
    "if not os.path.exists(zp):\n",
    "    os.makedirs(zp)"
   ]
  },
  {
   "cell_type": "code",
   "execution_count": 3,
   "metadata": {},
   "outputs": [],
   "source": [
    "import os\n",
    "import shutil\n",
    "import matplotlib.pyplot as plt\n",
    "import matplotlib.image as mpimg\n",
    "from pylab import *"
   ]
  },
  {
   "cell_type": "code",
   "execution_count": 4,
   "metadata": {},
   "outputs": [],
   "source": [
    "#将某个文件夹的图片移动到另一个文件夹，加上某个条件判断\n",
    "def movefile(source_folder,target_folder,condition):\n",
    "    filelist=os.listdir(source_folder)\n",
    "    for files in filelist:\n",
    "        if files[0]==\".\":\n",
    "            continue\n",
    "        #try:\n",
    "        if condition(os.path.join(source_folder,files)):\n",
    "            full_path=os.path.join(source_folder,files)\n",
    "            des_path=os.path.join(target_folder,files)\n",
    "            shutil.move(full_path,des_path)\n",
    "        #except:\n",
    "        #    print(os.path.join(source_folder,files))"
   ]
  },
  {
   "cell_type": "code",
   "execution_count": 8,
   "metadata": {},
   "outputs": [],
   "source": [
    "def if_heic(file_path):\n",
    "    if \".heic\" in file_path:\n",
    "        return True\n",
    "    else:\n",
    "        return False\n",
    "movefile(root,heic,if_heic)"
   ]
  },
  {
   "cell_type": "code",
   "execution_count": 26,
   "metadata": {},
   "outputs": [],
   "source": [
    "def if_jieping(file_path):\n",
    "    if \".heic\" in file_path:\n",
    "        return False\n",
    "    try:\n",
    "        im=Image.open(file_path)\n",
    "        if im.size[0]==602 and im.size[1]==1304:\n",
    "            return True\n",
    "        else:\n",
    "            return False\n",
    "    except:\n",
    "        print(file_path)\n",
    "movefile(root,Jie_p,if_jieping)"
   ]
  },
  {
   "cell_type": "code",
   "execution_count": 11,
   "metadata": {},
   "outputs": [],
   "source": [
    "def if_big(file_path):\n",
    "    size=os.path.getsize(file_path)\n",
    "    if size>=1048576:\n",
    "        return True\n",
    "    else:\n",
    "        return False\n",
    "movefile(root,big,if_big)"
   ]
  },
  {
   "cell_type": "code",
   "execution_count": 12,
   "metadata": {},
   "outputs": [],
   "source": [
    "def if_small(file_path):\n",
    "    size=os.path.getsize(file_path)\n",
    "    if size<=102400:\n",
    "        return True\n",
    "    else:\n",
    "        return False\n",
    "movefile(root,small,if_small)"
   ]
  },
  {
   "cell_type": "code",
   "execution_count": 17,
   "metadata": {},
   "outputs": [],
   "source": [
    "def if_zp(file_path):\n",
    "    if \".heic\" in file_path:\n",
    "        return False\n",
    "    try:\n",
    "        im=Image.open(file_path)\n",
    "        if (im.size[0]==4032 and im.size[1]==3024) or (im.size[0]==3024 and im.size[1]==4032):\n",
    "            return True\n",
    "        else:\n",
    "            return False\n",
    "    except:\n",
    "        print(file_path)\n",
    "movefile(root,zp,if_zp)"
   ]
  },
  {
   "cell_type": "code",
   "execution_count": 22,
   "metadata": {},
   "outputs": [],
   "source": [
    "if not os.path.exists(zp+\"/3263_2448\"):\n",
    "    os.makedirs(zp+\"/3263_2448\")\n",
    "def if_zp(file_path):\n",
    "    if \".heic\" in file_path:\n",
    "        return False\n",
    "    try:\n",
    "        im=Image.open(file_path)\n",
    "        if (im.size[0]==3263 and im.size[1]==2448) or (im.size[0]==2448 and im.size[1]==3263):\n",
    "            return True\n",
    "        else:\n",
    "            return False\n",
    "    except:\n",
    "        print(file_path)\n",
    "movefile(root,zp+\"/3263_2448\",if_zp)"
   ]
  },
  {
   "cell_type": "code",
   "execution_count": 25,
   "metadata": {},
   "outputs": [],
   "source": [
    "if not os.path.exists(zp+\"/1920_1080\"):\n",
    "    os.makedirs(zp+\"/1920_1080\")\n",
    "def if_zp(file_path):\n",
    "    if \".heic\" in file_path:\n",
    "        return False\n",
    "    try:\n",
    "        im=Image.open(file_path)\n",
    "        if (im.size[0]==1920 and im.size[1]==1080) or (im.size[0]==1080 and im.size[1]==1920):\n",
    "            return True\n",
    "        else:\n",
    "            return False\n",
    "    except:\n",
    "        print(file_path)\n",
    "movefile(root,zp+\"/1920_1080\",if_zp)"
   ]
  },
  {
   "cell_type": "code",
   "execution_count": 38,
   "metadata": {},
   "outputs": [],
   "source": [
    "path=\"data/7\"\n",
    "classes=15\n",
    "for i in range(classes):\n",
    "    isExists=os.path.exists(path+\"/\"+str(i))\n",
    "    # 判断结果\n",
    "    if not isExists:\n",
    "        # 如果不存在则创建目录\n",
    "        # 创建目录操作函数\n",
    "        os.makedirs(path+\"/\"+str(i))"
   ]
  },
  {
   "cell_type": "code",
   "execution_count": 39,
   "metadata": {},
   "outputs": [],
   "source": [
    "filelist=os.listdir(path)\n",
    "for files in filelist:\n",
    "    if files[0]==\".\":\n",
    "        continue\n",
    "    if os.path.isdir(os.path.join(path,files)):\n",
    "        continue\n",
    "    try:\n",
    "        img = mpimg.imread(os.path.join(path,files))\n",
    "        HSV=cv2.cvtColor(img, cv2.COLOR_BGR2HSV)\n",
    "        H, S, V = cv2.split(HSV)\n",
    "        \n",
    "        x=V.shape[0]\n",
    "        y=V.shape[1]\n",
    "        newV=V[np.arange(0,x,30)][:,np.arange(0,y,30)]\n",
    "        count=[0 for i in range(classes)]\n",
    "        for j in newV:\n",
    "            for i in j:\n",
    "                count[math.floor(i/(256/classes))]+=1\n",
    "        which_class=argmax(count)\n",
    "        \n",
    "        full_path=os.path.join(path,files)\n",
    "        des_path=os.path.join(path,str(which_class),files)\n",
    "        shutil.move(full_path,des_path)\n",
    "    except:\n",
    "        print(files)"
   ]
  },
  {
   "cell_type": "code",
   "execution_count": 47,
   "metadata": {},
   "outputs": [
    {
     "data": {
      "text/plain": [
       "(11, 20)"
      ]
     },
     "execution_count": 47,
     "metadata": {},
     "output_type": "execute_result"
    }
   ],
   "source": [
    "x=H.shape[0]\n",
    "y=H.shape[1]\n",
    "newH=H[np.arange(0,x,100)][:,np.arange(0,y,100)]\n",
    "count=[0 for i in range(classes)]\n",
    "for i in newH:\n",
    "    count[i/(360/classes)]+=1\n",
    "which_classes=argmax(count)"
   ]
  },
  {
   "cell_type": "code",
   "execution_count": 64,
   "metadata": {},
   "outputs": [],
   "source": [
    "path=small\n",
    "two_thousand_up=\"2000plus\"\n",
    "two_thousand_minus=\"2000minus\"\n",
    "wall=\"wall\"\n",
    "phone=\"phone\"\n",
    "if not os.path.exists(path+\"/\"+wall+two_thousand_up):\n",
    "    os.makedirs(path+\"/\"+wall+two_thousand_up)\n",
    "if not os.path.exists(path+\"/\"+wall+two_thousand_minus):\n",
    "    os.makedirs(path+\"/\"+wall+two_thousand_minus)\n",
    "if not os.path.exists(path+\"/\"+phone+two_thousand_up):\n",
    "    os.makedirs(path+\"/\"+phone+two_thousand_up)\n",
    "if not os.path.exists(path+\"/\"+phone+two_thousand_minus):\n",
    "    os.makedirs(path+\"/\"+phone+two_thousand_minus)\n",
    "\n",
    "filelist=os.listdir(path)\n",
    "for files in filelist:\n",
    "    if files[0]==\".\":\n",
    "        continue\n",
    "    if os.path.isdir(os.path.join(path,files)):\n",
    "        continue\n",
    "    try:\n",
    "        im=Image.open(os.path.join(path,files))\n",
    "        if (im.size[0]>=2000 and im.size[1]>=2000) and im.size[0]>im.size[1]:\n",
    "            shutil.move(os.path.join(path,files),os.path.join(path,wall+two_thousand_up,files))\n",
    "        elif (im.size[0]>=2000 and im.size[1]>=2000) and im.size[0]<=im.size[1]:\n",
    "            shutil.move(os.path.join(path,files),os.path.join(path,phone+two_thousand_up,files))\n",
    "        elif im.size[0]>im.size[1]:\n",
    "            shutil.move(os.path.join(path,files),os.path.join(path,wall+two_thousand_minus,files))\n",
    "        elif im.size[0]<=im.size[1]:\n",
    "            shutil.move(os.path.join(path,files),os.path.join(path,phone+two_thousand_minus,files))\n",
    "    except:\n",
    "        print(files)"
   ]
  },
  {
   "cell_type": "code",
   "execution_count": 51,
   "metadata": {},
   "outputs": [],
   "source": [
    "for ha in range(12):\n",
    "    for value in range(5):\n",
    "        path=root+\"/\"+str(ha)+\"/\"+str(value)\n",
    "        two_thousand_up=\"2000plus\"\n",
    "        two_thousand_minus=\"2000minus\"\n",
    "        wall=\"wall\"\n",
    "        phone=\"phone\"\n",
    "        if not os.path.exists(path+\"/\"+wall+two_thousand_up):\n",
    "            os.makedirs(path+\"/\"+wall+two_thousand_up)\n",
    "        if not os.path.exists(path+\"/\"+wall+two_thousand_minus):\n",
    "            os.makedirs(path+\"/\"+wall+two_thousand_minus)\n",
    "        if not os.path.exists(path+\"/\"+phone+two_thousand_up):\n",
    "            os.makedirs(path+\"/\"+phone+two_thousand_up)\n",
    "        if not os.path.exists(path+\"/\"+phone+two_thousand_minus):\n",
    "            os.makedirs(path+\"/\"+phone+two_thousand_minus)\n",
    "        \n",
    "        filelist=os.listdir(path)\n",
    "        for files in filelist:\n",
    "            if files[0]==\".\":\n",
    "                continue\n",
    "            if os.path.isdir(os.path.join(path,files)):\n",
    "                continue\n",
    "            try:\n",
    "                im=Image.open(os.path.join(path,files))\n",
    "                if (im.size[0]>=2000 and im.size[1]>=2000) and im.size[0]>im.size[1]:\n",
    "                    shutil.move(os.path.join(path,files),os.path.join(path,wall+two_thousand_up,files))\n",
    "                elif (im.size[0]>=2000 and im.size[1]>=2000) and im.size[0]<=im.size[1]:\n",
    "                    shutil.move(os.path.join(path,files),os.path.join(path,phone+two_thousand_up,files))\n",
    "                elif im.size[0]>im.size[1]:\n",
    "                    shutil.move(os.path.join(path,files),os.path.join(path,wall+two_thousand_minus,files))\n",
    "                elif im.size[0]<=im.size[1]:\n",
    "                    shutil.move(os.path.join(path,files),os.path.join(path,phone+two_thousand_minus,files))\n",
    "            except:\n",
    "                print(files)"
   ]
  },
  {
   "cell_type": "code",
   "execution_count": null,
   "metadata": {},
   "outputs": [],
   "source": []
  }
 ],
 "metadata": {
  "kernelspec": {
   "display_name": "Python 3",
   "language": "python",
   "name": "python3"
  },
  "language_info": {
   "codemirror_mode": {
    "name": "ipython",
    "version": 3
   },
   "file_extension": ".py",
   "mimetype": "text/x-python",
   "name": "python",
   "nbconvert_exporter": "python",
   "pygments_lexer": "ipython3",
   "version": "3.7.6"
  }
 },
 "nbformat": 4,
 "nbformat_minor": 4
}
